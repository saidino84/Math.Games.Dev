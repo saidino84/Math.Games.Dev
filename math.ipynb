{
 "cells": [
  {
   "cell_type": "code",
   "execution_count": null,
   "id": "11e8cad6",
   "metadata": {},
   "outputs": [],
   "source": [
    "\n",
    "val vector=mutableMapOf<double,double>(23.1,23.3);\n",
    "println(vector)"
   ]
  },
  {
   "cell_type": "code",
   "execution_count": null,
   "id": "25b3a429",
   "metadata": {},
   "outputs": [],
   "source": []
  },
  {
   "cell_type": "code",
   "execution_count": null,
   "id": "ec9ad7ca",
   "metadata": {},
   "outputs": [
    {
     "ename": "org.jetbrains.kotlinx.jupyter.exceptions.ReplCompilerException",
     "evalue": "at Cell In[13], line 14, column 33: Unresolved reference: fist\nat Cell In[13], line 14, column 44: Unresolved reference: second\nat Cell In[13], line 15, column 17: Overload resolution ambiguity: \npublic inline fun println(message: Any?): Unit defined in kotlin.io\npublic inline fun println(message: Boolean): Unit defined in kotlin.io\npublic inline fun println(message: Byte): Unit defined in kotlin.io\npublic inline fun println(message: Char): Unit defined in kotlin.io\npublic inline fun println(message: CharArray): Unit defined in kotlin.io\npublic inline fun println(message: Double): Unit defined in kotlin.io\npublic inline fun println(message: Float): Unit defined in kotlin.io\npublic inline fun println(message: Int): Unit defined in kotlin.io\npublic inline fun println(message: Long): Unit defined in kotlin.io\npublic inline fun println(message: Short): Unit defined in kotlin.io\nat Cell In[13], line 19, column 13: Overload resolution ambiguity: \npublic inline fun println(message: Any?): Unit defined in kotlin.io\npublic inline fun println(message: Boolean): Unit defined in kotlin.io\npublic inline fun println(message: Byte): Unit defined in kotlin.io\npublic inline fun println(message: Char): Unit defined in kotlin.io\npublic inline fun println(message: CharArray): Unit defined in kotlin.io\npublic inline fun println(message: Double): Unit defined in kotlin.io\npublic inline fun println(message: Float): Unit defined in kotlin.io\npublic inline fun println(message: Int): Unit defined in kotlin.io\npublic inline fun println(message: Long): Unit defined in kotlin.io\npublic inline fun println(message: Short): Unit defined in kotlin.io",
     "output_type": "error",
     "traceback": [
      "org.jetbrains.kotlinx.jupyter.exceptions.ReplCompilerException: at Cell In[13], line 14, column 33: Unresolved reference: fist",
      "at Cell In[13], line 14, column 44: Unresolved reference: second",
      "at Cell In[13], line 15, column 17: Overload resolution ambiguity: ",
      "public inline fun println(message: Any?): Unit defined in kotlin.io",
      "public inline fun println(message: Boolean): Unit defined in kotlin.io",
      "public inline fun println(message: Byte): Unit defined in kotlin.io",
      "public inline fun println(message: Char): Unit defined in kotlin.io",
      "public inline fun println(message: CharArray): Unit defined in kotlin.io",
      "public inline fun println(message: Double): Unit defined in kotlin.io",
      "public inline fun println(message: Float): Unit defined in kotlin.io",
      "public inline fun println(message: Int): Unit defined in kotlin.io",
      "public inline fun println(message: Long): Unit defined in kotlin.io",
      "public inline fun println(message: Short): Unit defined in kotlin.io",
      "at Cell In[13], line 19, column 13: Overload resolution ambiguity: ",
      "public inline fun println(message: Any?): Unit defined in kotlin.io",
      "public inline fun println(message: Boolean): Unit defined in kotlin.io",
      "public inline fun println(message: Byte): Unit defined in kotlin.io",
      "public inline fun println(message: Char): Unit defined in kotlin.io",
      "public inline fun println(message: CharArray): Unit defined in kotlin.io",
      "public inline fun println(message: Double): Unit defined in kotlin.io",
      "public inline fun println(message: Float): Unit defined in kotlin.io",
      "public inline fun println(message: Int): Unit defined in kotlin.io",
      "public inline fun println(message: Long): Unit defined in kotlin.io",
      "public inline fun println(message: Short): Unit defined in kotlin.io",
      "\tat org.jetbrains.kotlinx.jupyter.repl.impl.JupyterCompilerImpl.compileSync(JupyterCompilerImpl.kt:208)",
      "\tat org.jetbrains.kotlinx.jupyter.repl.impl.InternalEvaluatorImpl.eval(InternalEvaluatorImpl.kt:126)",
      "\tat org.jetbrains.kotlinx.jupyter.repl.impl.CellExecutorImpl$execute$1$result$1.invoke(CellExecutorImpl.kt:80)",
      "\tat org.jetbrains.kotlinx.jupyter.repl.impl.CellExecutorImpl$execute$1$result$1.invoke(CellExecutorImpl.kt:78)",
      "\tat org.jetbrains.kotlinx.jupyter.repl.impl.ReplForJupyterImpl.withHost(ReplForJupyterImpl.kt:774)",
      "\tat org.jetbrains.kotlinx.jupyter.repl.impl.CellExecutorImpl.execute-L4Nmkdk(CellExecutorImpl.kt:78)",
      "\tat org.jetbrains.kotlinx.jupyter.repl.execution.CellExecutor$DefaultImpls.execute-L4Nmkdk$default(CellExecutor.kt:13)",
      "\tat org.jetbrains.kotlinx.jupyter.repl.impl.ReplForJupyterImpl.evaluateUserCode-wNURfNM(ReplForJupyterImpl.kt:596)",
      "\tat org.jetbrains.kotlinx.jupyter.repl.impl.ReplForJupyterImpl.evalExImpl(ReplForJupyterImpl.kt:454)",
      "\tat org.jetbrains.kotlinx.jupyter.repl.impl.ReplForJupyterImpl.access$evalExImpl(ReplForJupyterImpl.kt:141)",
      "\tat org.jetbrains.kotlinx.jupyter.repl.impl.ReplForJupyterImpl$evalEx$1.invoke(ReplForJupyterImpl.kt:447)",
      "\tat org.jetbrains.kotlinx.jupyter.repl.impl.ReplForJupyterImpl$evalEx$1.invoke(ReplForJupyterImpl.kt:446)",
      "\tat org.jetbrains.kotlinx.jupyter.repl.impl.ReplForJupyterImpl.withEvalContext(ReplForJupyterImpl.kt:427)",
      "\tat org.jetbrains.kotlinx.jupyter.repl.impl.ReplForJupyterImpl.evalEx(ReplForJupyterImpl.kt:446)",
      "\tat org.jetbrains.kotlinx.jupyter.messaging.IdeCompatibleMessageRequestProcessor$processExecuteRequest$1$response$1$1.invoke(IdeCompatibleMessageRequestProcessor.kt:171)",
      "\tat org.jetbrains.kotlinx.jupyter.messaging.IdeCompatibleMessageRequestProcessor$processExecuteRequest$1$response$1$1.invoke(IdeCompatibleMessageRequestProcessor.kt:170)",
      "\tat org.jetbrains.kotlinx.jupyter.streams.BlockingSubstitutionEngine.withDataSubstitution(SubstitutionEngine.kt:70)",
      "\tat org.jetbrains.kotlinx.jupyter.streams.StreamSubstitutionManager.withSubstitutedStreams(StreamSubstitutionManager.kt:118)",
      "\tat org.jetbrains.kotlinx.jupyter.messaging.IdeCompatibleMessageRequestProcessor.withForkedIn(IdeCompatibleMessageRequestProcessor.kt:347)",
      "\tat org.jetbrains.kotlinx.jupyter.messaging.IdeCompatibleMessageRequestProcessor.access$withForkedIn(IdeCompatibleMessageRequestProcessor.kt:67)",
      "\tat org.jetbrains.kotlinx.jupyter.messaging.IdeCompatibleMessageRequestProcessor$evalWithIO$1$1.invoke(IdeCompatibleMessageRequestProcessor.kt:361)",
      "\tat org.jetbrains.kotlinx.jupyter.streams.BlockingSubstitutionEngine.withDataSubstitution(SubstitutionEngine.kt:70)",
      "\tat org.jetbrains.kotlinx.jupyter.streams.StreamSubstitutionManager.withSubstitutedStreams(StreamSubstitutionManager.kt:118)",
      "\tat org.jetbrains.kotlinx.jupyter.messaging.IdeCompatibleMessageRequestProcessor.withForkedErr(IdeCompatibleMessageRequestProcessor.kt:336)",
      "\tat org.jetbrains.kotlinx.jupyter.messaging.IdeCompatibleMessageRequestProcessor.access$withForkedErr(IdeCompatibleMessageRequestProcessor.kt:67)",
      "\tat org.jetbrains.kotlinx.jupyter.messaging.IdeCompatibleMessageRequestProcessor$evalWithIO$1.invoke(IdeCompatibleMessageRequestProcessor.kt:360)",
      "\tat org.jetbrains.kotlinx.jupyter.streams.BlockingSubstitutionEngine.withDataSubstitution(SubstitutionEngine.kt:70)",
      "\tat org.jetbrains.kotlinx.jupyter.streams.StreamSubstitutionManager.withSubstitutedStreams(StreamSubstitutionManager.kt:118)",
      "\tat org.jetbrains.kotlinx.jupyter.messaging.IdeCompatibleMessageRequestProcessor.withForkedOut(IdeCompatibleMessageRequestProcessor.kt:328)",
      "\tat org.jetbrains.kotlinx.jupyter.messaging.IdeCompatibleMessageRequestProcessor.evalWithIO(IdeCompatibleMessageRequestProcessor.kt:359)",
      "\tat org.jetbrains.kotlinx.jupyter.messaging.IdeCompatibleMessageRequestProcessor$processExecuteRequest$1$response$1.invoke(IdeCompatibleMessageRequestProcessor.kt:170)",
      "\tat org.jetbrains.kotlinx.jupyter.messaging.IdeCompatibleMessageRequestProcessor$processExecuteRequest$1$response$1.invoke(IdeCompatibleMessageRequestProcessor.kt:169)",
      "\tat org.jetbrains.kotlinx.jupyter.execution.JupyterExecutorImpl$Task.execute(JupyterExecutorImpl.kt:41)",
      "\tat org.jetbrains.kotlinx.jupyter.execution.JupyterExecutorImpl$executorThread$1.invoke(JupyterExecutorImpl.kt:81)",
      "\tat org.jetbrains.kotlinx.jupyter.execution.JupyterExecutorImpl$executorThread$1.invoke(JupyterExecutorImpl.kt:79)",
      "\tat kotlin.concurrent.ThreadsKt$thread$thread$1.run(Thread.kt:30)",
      ""
     ]
    }
   ],
   "source": [
    "data class SnakeGame(val food:Pair<Int,Int>, var snake:Pair<Int,Int>){}\n",
    "\n",
    "class GameBoard{\n",
    "    var snake_game:SnakeGame=SnakeGame(food=Pair(10,20),snake=Pair(8,20))\n",
    "    fun start()println(snake_game)\n",
    "    \n",
    "    fun move(){\n",
    "        this.snake_game.let{\n",
    "            val new_pos= it.snake.first.let{ //se tiver pos1\n",
    "                var pos=Pair(it.fist+10,it.second+10) //atribua isto como novo pos\n",
    "                println(pos)\n",
    "                pos\n",
    "            }\n",
    "            println(new_pos)\n",
    "        }\n",
    "    }\n",
    "}\n",
    "GameBoard().start();\n",
    "\n",
    "\n",
    "\n",
    "\n"
   ]
  },
  {
   "cell_type": "code",
   "execution_count": null,
   "id": "c7029e1d",
   "metadata": {},
   "outputs": [],
   "source": []
  },
  {
   "cell_type": "code",
   "execution_count": null,
   "id": "3bdfc277",
   "metadata": {},
   "outputs": [
    {
     "name": "stdout",
     "output_type": "stream",
     "text": [
      "1\n",
      "Bee(maxVel=25.0, x=10.0, y=4.2)\n",
      "2\n",
      "Bee(maxVel=25.0, x=10.0, y=8.4)\n",
      "3\n",
      "Bee(maxVel=25.0, x=10.0, y=12.599999)\n",
      "4\n",
      "Bee(maxVel=25.0, x=10.0, y=16.8)\n",
      "5\n",
      "Bee(maxVel=25.0, x=10.0, y=21.0)\n",
      "6\n",
      "Bee(maxVel=25.0, x=10.0, y=25.0)\n",
      "7\n",
      "Bee(maxVel=25.0, x=10.0, y=25.0)\n",
      "8\n",
      "Bee(maxVel=25.0, x=10.0, y=25.0)\n",
      "9\n",
      "Bee(maxVel=25.0, x=10.0, y=25.0)\n",
      "10\n",
      "Bee(maxVel=25.0, x=10.0, y=25.0)\n"
     ]
    },
    {
     "ename": "",
     "evalue": "",
     "output_type": "error",
     "traceback": [
      "\u001b[1;31mThe Kernel crashed while executing code in the current cell or a previous cell. \n",
      "\u001b[1;31mPlease review the code in the cell(s) to identify a possible cause of the failure. \n",
      "\u001b[1;31mClick <a href='https://aka.ms/vscodeJupyterKernelCrash'>here</a> for more info. \n",
      "\u001b[1;31mView Jupyter <a href='command:jupyter.viewOutput'>log</a> for further details."
     ]
    }
   ],
   "source": [
    "data class Bee(\n",
    "    val maxVel :Float =25f,\n",
    "    val x:Float =10f,\n",
    "    val y:Float =20f\n",
    ")\n",
    "\n",
    "class GameBoard {\n",
    "    var bee = Bee()\n",
    "    var velocity = 0f\n",
    "\n",
    "    fun update() {\n",
    "        // Since Bee is a data class with immutable properties, create a new instance with updated y\n",
    "        bee = bee.copy(y = velocity)\n",
    "        println(bee)\n",
    "    }\n",
    "\n",
    "    fun updateState() {\n",
    "        velocity = (velocity + 4.2f).coerceIn(-bee.maxVel, bee.maxVel)\n",
    "    }\n",
    "}\n",
    "\n",
    "val board = GameBoard()\n",
    "\n",
    "for (i in 1..10) {\n",
    "    println(i)\n",
    "    board.updateState()\n",
    "    board.update()\n",
    "}"
   ]
  },
  {
   "cell_type": "code",
   "execution_count": 3,
   "id": "ed66da10",
   "metadata": {},
   "outputs": [
    {
     "data": {
      "text/plain": [
       "21"
      ]
     },
     "execution_count": 3,
     "metadata": {},
     "output_type": "execute_result"
    }
   ],
   "source": [
    "var n=5\n",
    "20+5%2"
   ]
  }
 ],
 "metadata": {
  "kernelspec": {
   "display_name": "Kotlin",
   "language": "kotlin",
   "name": "kotlin"
  },
  "language_info": {
   "codemirror_mode": "text/x-kotlin",
   "file_extension": ".kt",
   "mimetype": "text/x-kotlin",
   "name": "kotlin",
   "nbconvert_exporter": "",
   "pygments_lexer": "kotlin",
   "version": "1.9.23"
  }
 },
 "nbformat": 4,
 "nbformat_minor": 5
}
