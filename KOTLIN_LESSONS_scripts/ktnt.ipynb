{
 "cells": [
  {
   "cell_type": "code",
   "execution_count": null,
   "id": "8ea7ae12",
   "metadata": {},
   "outputs": [],
   "source": [
    "import kotlin.collections.mutableListOf\n",
    "data class Son(val name:String,val age:int,val mother:String)\n",
    "fun main(){\n",
    "    println(\"Hello, World!\")\n",
    "\n",
    "    val data=mutableListOf(1,3,)\n",
    "\n",
    "    data.any{it<0}\n",
    "    data.any{\n",
    "        it>2\n",
    "    }.also { println(it) }\n",
    "val name:mutableListOf<String> =mutableListOf(\"Ancha\",\"Claudia\",\"Jonas\")\n",
    "val age:mutableListOf<int> =mutableListOf(9,7,3)\n",
    "val mothers=mutableListOf<String> =mutableListOf(\"Abide\",\"Saia\",\"Esperanca\")\n",
    "\n",
    "var sons:mutableListOf<Son> = mutableListOf(Son(name=name[1],age=age[1],mother=mothers[1]))\n",
    "\n",
    "sons.also{it->\n",
    "    println(it)\n",
    "}\n",
    "}\n",
    "\n",
    "main()\n",
    "val name =\"Jonas\"\n",
    "println(name)"
   ]
  },
  {
   "cell_type": "code",
   "execution_count": 54,
   "id": "3a6c2797",
   "metadata": {},
   "outputs": [
    {
     "name": "stdout",
     "output_type": "stream",
     "text": [
      "Son(name=Clau, age=3, mother=Said)\n"
     ]
    }
   ],
   "source": [
    "//ALSO\n",
    "data class Son(val name:String,var age:Int,val mother:String)\n",
    "var son=Son(\"Clau\",5,\"Said\")\n",
    "var s2=son.also{\n",
    "    it.age=3\n",
    "    println(it)\n",
    "}\n"
   ]
  },
  {
   "cell_type": "markdown",
   "id": "4bb6a746",
   "metadata": {},
   "source": [
    "<b style=\"color:#fcfc\">Exercícios com let</b>\n",
    "\n",
    "* Dado um número inteiro, use let para imprimir o dobro apenas se ele não for nulo.\n",
    "* Use let para transformar uma lista de strings em uma lista de seus tamanhos.\n",
    "* Dado um objeto nulo, use let para evitar NullPointerException ao acessar uma propriedade."
   ]
  },
  {
   "cell_type": "code",
   "execution_count": null,
   "id": "1789fb98",
   "metadata": {},
   "outputs": [],
   "source": [
    "//Apply\n",
    "data class Son(var name:String,var age:Int,var mother:String)\n",
    "var n=Son(\"nome1\",12,\"mothersname\")\n",
    "\n",
    "//se usar n1.apply{} ele modificara o origina e atribuira o mesmo objecto a p2\n",
    "val n2=n.copy().apply{\n",
    "    age=43\n",
    "}\n",
    "\n",
    "println(\"first $n\")\n",
    "println(\"second $n2\")\n",
    "\n",
    "//appy é usado para configurar as propriedades text,textSize e textColor do objecto TextView\n",
    "val textView =TextView(context).apply{\n",
    "    text=\"Hello Worl\"\n",
    "    textSize=24f \n",
    "    setTextColor(Color.Black)\n",
    "}\n",
    "\n"
   ]
  },
  {
   "cell_type": "code",
   "execution_count": null,
   "id": "98d368c1",
   "metadata": {},
   "outputs": [],
   "source": [
    "var inteiro:String?=null;\n",
    "data class Son(var name:String,var age:Int,var mother:String)\n",
    "val name:MutableList<String> =mutableListOf(\"Ancha\",\"Claudia\",\"Jonas\")\n",
    "val age:MutableList<Int> =mutableListOf(9,7,3)\n",
    "val mothers:MutableList<String> =mutableListOf(\"Abide\",\"Saia\",\"Esperanca\")\n",
    "inteiro?.let{\n",
    "    println(\"iteiro ja tem valor multiplicando-o\")\n",
    "    println(inteiro)\n",
    "}?:run{\n",
    "    inteiro=\"Value was null ressign it\"\n",
    "    println(inteiro)\n",
    "}\n",
    "\n",
    "\n",
    "var new_data=mutableListOf<Son>();\n",
    "\n",
    "val n=new_data.run{\n",
    "    new_data.add(Son(\"Claudia\",12,\"Mother\"))\n",
    "    //se nao deixa nada pra retornar ele retorna um Boolean\n",
    "    new_data[0].age\n",
    "    }\n",
    "\n",
    "    \n",
    "println(\"New data $new_data\")\n",
    "println(\"escop: $n\")\n",
    "\n",
    "var us=Son(\"Jose\",20,\"Longside\")\n",
    "\n",
    "val n1=us.apply{\n",
    "    name=\"Novo ii\"\n",
    "}.also{\n",
    "    println(it)\n",
    "}\n",
    "\n",
    "\n",
    "\n"
   ]
  }
 ],
 "metadata": {
  "kernelspec": {
   "display_name": "Kotlin",
   "language": "kotlin",
   "name": "kotlin"
  },
  "language_info": {
   "codemirror_mode": "text/x-kotlin",
   "file_extension": ".kt",
   "mimetype": "text/x-kotlin",
   "name": "kotlin",
   "nbconvert_exporter": "",
   "pygments_lexer": "kotlin",
   "version": "1.9.23"
  }
 },
 "nbformat": 4,
 "nbformat_minor": 5
}
