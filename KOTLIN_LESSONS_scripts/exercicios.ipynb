{
 "cells": [
  {
   "cell_type": "code",
   "execution_count": null,
   "id": "c03f631d",
   "metadata": {},
   "outputs": [],
   "source": [
    "\n",
    "// Use also para imprimir o conteúdo de uma lista antes e depois de adicionar um elemento.\n",
    "var dados =mutableListOf(1,4,5,3,6)\n",
    "var pares =dados.filter{it %2==0}.also{println(\"$it\")}\n"
   ]
  },
  {
   "cell_type": "markdown",
   "id": "98bd4a5c",
   "metadata": {},
   "source": [
    "#### Exercícios com `also`\n",
    "\n",
    "1. Use `also` para imprimir o conteúdo de uma lista antes e depois de adicionar um elemento.\n",
    "2. Crie um objeto e use `also` para validar uma propriedade, lançando exceção se estiver inválida.\n",
    "3. Use `also` para encadear operações em uma lista, mostrando o estado em cada etapa.\n",
    "\n",
    "---"
   ]
  },
  {
   "cell_type": "code",
   "execution_count": null,
   "id": "e8319ff2",
   "metadata": {},
   "outputs": [
    {
     "name": "stdout",
     "output_type": "stream",
     "text": [
      "[1, 4, 5, 3, 6]\n",
      "3\n"
     ]
    }
   ],
   "source": [
    "val ex=\"1. Use `also` para imprimir o conteúdo de uma lista antes e depois de adicionar um elemento.\"\n",
    "var dados =mutableListOf(1,4,5,3,6)\n",
    "var types=listOf(\"Falsos\",\"Verdaderos\",\"Incriveis\")\n",
    "\n",
    "dados.also{\n",
    "    println(it)\n",
    "    it.add(8)\n",
    "    \n",
    "}\n",
    "println(dados)\n"
   ]
  },
  {
   "cell_type": "code",
   "execution_count": 33,
   "id": "716c641e",
   "metadata": {},
   "outputs": [
    {
     "name": "stdout",
     "output_type": "stream",
     "text": [
      "ERRADO !\n",
      "Son(name=, age=7, mother=Esperanca)\n"
     ]
    }
   ],
   "source": [
    "val n=\"2. Crie um objeto e use `also` para validar uma propriedade, lançando exceção se estiver inválida.\"\n",
    "data class Son(var name:String,var age:Int,var mother:String)\n",
    "\n",
    "\n",
    "var son=Son(\"\",7,\"Esperanca\").also{\n",
    "    if(it.name.isBlank()) println(\"ERRADO !\")\n",
    "    println(it)\n",
    "}\n",
    "\n",
    "\n"
   ]
  },
  {
   "cell_type": "code",
   "execution_count": 36,
   "id": "155d7cd5",
   "metadata": {},
   "outputs": [
    {
     "name": "stdout",
     "output_type": "stream",
     "text": [
      "[0]\n",
      "[0, 6]\n",
      "[0, 6, 9]\n"
     ]
    },
    {
     "data": {
      "text/plain": [
       "[0, 6, 9]"
      ]
     },
     "execution_count": 36,
     "metadata": {},
     "output_type": "execute_result"
    }
   ],
   "source": [
    "var ex3=\"3. Use `also` para encadear operações em uma lista, mostrando o estado em cada etapa.\"\n",
    "var ages=mutableListOf(0)\n",
    "\n",
    "ages.also{\n",
    "    println(it)\n",
    "}.apply{\n",
    "    add(6)\n",
    "}.also{\n",
    "    println(it)\n",
    "}.apply{\n",
    "    add(9)\n",
    "}.also{\n",
    "    println(it)\n",
    "}"
   ]
  },
  {
   "cell_type": "code",
   "execution_count": null,
   "id": "35c62860",
   "metadata": {},
   "outputs": [],
   "source": [
    "var nome = {name:\"lous\"}.run{\n",
    "    first.lenght\n",
    "}.let{\n",
    "    println\n",
    "}"
   ]
  }
 ],
 "metadata": {
  "kernelspec": {
   "display_name": "Kotlin",
   "language": "kotlin",
   "name": "kotlin"
  },
  "language_info": {
   "codemirror_mode": "text/x-kotlin",
   "file_extension": ".kt",
   "mimetype": "text/x-kotlin",
   "name": "kotlin",
   "nbconvert_exporter": "",
   "pygments_lexer": "kotlin",
   "version": "1.9.23"
  }
 },
 "nbformat": 4,
 "nbformat_minor": 5
}
