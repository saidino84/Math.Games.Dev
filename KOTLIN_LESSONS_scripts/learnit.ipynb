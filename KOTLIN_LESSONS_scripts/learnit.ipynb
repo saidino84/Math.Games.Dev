{
 "cells": [
  {
   "cell_type": "code",
   "execution_count": 11,
   "id": "73158c58",
   "metadata": {},
   "outputs": [
    {
     "name": "stdout",
     "output_type": "stream",
     "text": [
      "[Son(Ancha, 9,abite), Son(claudia, 7,esperanca), Son(Jonas, 3,esperanca)]\n"
     ]
    }
   ],
   "source": [
    "class Son:\n",
    "    def __init__(this,name,age,mother):\n",
    "        this.name=name\n",
    "        this.age=age\n",
    "        this.mother=mother\n",
    "    def grow(this) ->int:\n",
    "        return this.age+1\n",
    "    \n",
    "    def __str__(this)->str:\n",
    "        return f\"Son({this.name}, {this.age},{this.mother})\"\n",
    "    def __repr__(this):\n",
    "        return f\"Son({this.name}, {this.age},{this.mother})\"\n",
    "        \n",
    "sons_name =[\"Ancha\",\"claudia\",\"Jonas\"]\n",
    "idades=[9,7,3]\n",
    "mothers=['abite','esperanca','esperanca']\n",
    "\n",
    "son=list(Son(name=x,age=y,mother=w) for x,y,w in zip(sons_name ,idades, mothers))\n",
    "\n",
    "# len(son)\n",
    "from pprint import pprint\n",
    "pprint(son)\n",
    "\n"
   ]
  },
  {
   "cell_type": "code",
   "execution_count": 21,
   "id": "bb38b685",
   "metadata": {},
   "outputs": [
    {
     "name": "stdout",
     "output_type": "stream",
     "text": [
      "('Ancha', 9)\n",
      "('claudia', 7)\n",
      "('Jonas', 3)\n",
      "[]\n"
     ]
    }
   ],
   "source": [
    "zp=zip(sons_name,idades)\n",
    "for _zp in zp:\n",
    "    print(_zp)\n",
    "\n",
    "only=list(filter(lambda x:x[2]>4,zp))\n",
    "print(only)"
   ]
  },
  {
   "cell_type": "code",
   "execution_count": null,
   "id": "3b601b13",
   "metadata": {},
   "outputs": [
    {
     "ename": "TypeError",
     "evalue": "object() takes no arguments",
     "output_type": "error",
     "traceback": [
      "\u001b[31m---------------------------------------------------------------------------\u001b[39m",
      "\u001b[31mTypeError\u001b[39m                                 Traceback (most recent call last)",
      "\u001b[36mCell\u001b[39m\u001b[36m \u001b[39m\u001b[32mIn[5]\u001b[39m\u001b[32m, line 1\u001b[39m\n\u001b[32m----> \u001b[39m\u001b[32m1\u001b[39m zp=\u001b[38;5;28;43mobject\u001b[39;49m\u001b[43m(\u001b[49m\u001b[43mname\u001b[49m\u001b[43m=\u001b[49m\u001b[33;43m\"\u001b[39;49m\u001b[33;43muser1\u001b[39;49m\u001b[33;43m\"\u001b[39;49m\u001b[43m)\u001b[49m\n\u001b[32m      2\u001b[39m \u001b[38;5;28;01mwith\u001b[39;00m(zp) \u001b[38;5;28;01mas\u001b[39;00m z:\n\u001b[32m      3\u001b[39m     \u001b[38;5;28mprint\u001b[39m(z.name)\n",
      "\u001b[31mTypeError\u001b[39m: object() takes no arguments"
     ]
    }
   ],
   "source": []
  }
 ],
 "metadata": {
  "kernelspec": {
   "display_name": "Python 3",
   "language": "python",
   "name": "python3"
  },
  "language_info": {
   "codemirror_mode": {
    "name": "ipython",
    "version": 3
   },
   "file_extension": ".py",
   "mimetype": "text/x-python",
   "name": "python",
   "nbconvert_exporter": "python",
   "pygments_lexer": "ipython3",
   "version": "3.13.3"
  }
 },
 "nbformat": 4,
 "nbformat_minor": 5
}
